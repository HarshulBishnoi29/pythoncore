{
 "cells": [
  {
   "cell_type": "code",
   "execution_count": null,
   "id": "baf6eb32",
   "metadata": {},
   "outputs": [],
   "source": [
    "strings?\n",
    "strings are basically used to store text information"
   ]
  },
  {
   "cell_type": "code",
   "execution_count": null,
   "id": "720ce7bd",
   "metadata": {},
   "outputs": [],
   "source": [
    "s = \"aman is lazy\"\n",
    "s1 = \"234trg5\"\n",
    "s2 = \"100\"\n",
    "s3 = \"43t3f5g53\"\n",
    " this are all strings"
   ]
  },
  {
   "cell_type": "code",
   "execution_count": null,
   "id": "74b141e6",
   "metadata": {},
   "outputs": [],
   "source": [
    "indexing and slicing in a string:"
   ]
  },
  {
   "cell_type": "code",
   "execution_count": null,
   "id": "55af1ec1",
   "metadata": {},
   "outputs": [],
   "source": [
    "indexing:"
   ]
  },
  {
   "cell_type": "code",
   "execution_count": 6,
   "id": "daa3963b",
   "metadata": {},
   "outputs": [
    {
     "data": {
      "text/plain": [
       "'own'"
      ]
     },
     "execution_count": 6,
     "metadata": {},
     "output_type": "execute_result"
    }
   ],
   "source": [
    "f = \"brown\"\n",
    "f[2:5:1]"
   ]
  },
  {
   "cell_type": "code",
   "execution_count": 9,
   "id": "7f1b70e4",
   "metadata": {},
   "outputs": [
    {
     "data": {
      "text/plain": [
       "'brown'"
      ]
     },
     "execution_count": 9,
     "metadata": {},
     "output_type": "execute_result"
    }
   ],
   "source": [
    "f = \"brown\"\n",
    "f[:]"
   ]
  },
  {
   "cell_type": "code",
   "execution_count": 11,
   "id": "85203074",
   "metadata": {},
   "outputs": [
    {
     "data": {
      "text/plain": [
       "'brown'"
      ]
     },
     "execution_count": 11,
     "metadata": {},
     "output_type": "execute_result"
    }
   ],
   "source": [
    "f = \"brown\"\n",
    "f[::]"
   ]
  },
  {
   "cell_type": "code",
   "execution_count": 12,
   "id": "111b5e96",
   "metadata": {},
   "outputs": [
    {
     "data": {
      "text/plain": [
       "'nworb'"
      ]
     },
     "execution_count": 12,
     "metadata": {},
     "output_type": "execute_result"
    }
   ],
   "source": [
    "f = \"brown\"\n",
    "f[::-1]"
   ]
  },
  {
   "cell_type": "code",
   "execution_count": 16,
   "id": "422d9754",
   "metadata": {},
   "outputs": [
    {
     "data": {
      "text/plain": [
       "('m', 'p', 's')"
      ]
     },
     "execution_count": 16,
     "metadata": {},
     "output_type": "execute_result"
    }
   ],
   "source": [
    "d = \"mimpraprasad\"\n",
    "d[2],d[3],d[9]"
   ]
  },
  {
   "cell_type": "code",
   "execution_count": null,
   "id": "bb8b243f",
   "metadata": {},
   "outputs": [],
   "source": [
    "above eg. is an example of slicing"
   ]
  },
  {
   "cell_type": "code",
   "execution_count": 18,
   "id": "6dd82a6b",
   "metadata": {},
   "outputs": [
    {
     "data": {
      "text/plain": [
       "'helloworl'"
      ]
     },
     "execution_count": 18,
     "metadata": {},
     "output_type": "execute_result"
    }
   ],
   "source": [
    "h = \"helloworld\"\n",
    "h[0:9:1]"
   ]
  },
  {
   "cell_type": "code",
   "execution_count": 19,
   "id": "3758fa75",
   "metadata": {},
   "outputs": [
    {
     "data": {
      "text/plain": [
       "'hellowor'"
      ]
     },
     "execution_count": 19,
     "metadata": {},
     "output_type": "execute_result"
    }
   ],
   "source": [
    "h = \"helloworld\"\n",
    "h[:8]"
   ]
  },
  {
   "cell_type": "code",
   "execution_count": null,
   "id": "62c551cd",
   "metadata": {},
   "outputs": [],
   "source": [
    "property:\n",
    "    1)mutability"
   ]
  },
  {
   "cell_type": "code",
   "execution_count": 22,
   "id": "9a1834ed",
   "metadata": {},
   "outputs": [
    {
     "ename": "TypeError",
     "evalue": "'str' object does not support item assignment",
     "output_type": "error",
     "traceback": [
      "\u001b[1;31m---------------------------------------------------------------------------\u001b[0m",
      "\u001b[1;31mTypeError\u001b[0m                                 Traceback (most recent call last)",
      "\u001b[1;32m~\\AppData\\Local\\Temp/ipykernel_32256/1306012860.py\u001b[0m in \u001b[0;36m<module>\u001b[1;34m\u001b[0m\n\u001b[0;32m      1\u001b[0m \u001b[0ms\u001b[0m \u001b[1;33m=\u001b[0m \u001b[1;34m\"aman\"\u001b[0m\u001b[1;33m\u001b[0m\u001b[1;33m\u001b[0m\u001b[0m\n\u001b[1;32m----> 2\u001b[1;33m \u001b[0ms\u001b[0m\u001b[1;33m[\u001b[0m\u001b[1;36m0\u001b[0m\u001b[1;33m]\u001b[0m\u001b[1;33m=\u001b[0m\u001b[1;34m\"d\"\u001b[0m\u001b[1;33m\u001b[0m\u001b[1;33m\u001b[0m\u001b[0m\n\u001b[0m\u001b[0;32m      3\u001b[0m \u001b[0ms\u001b[0m\u001b[1;33m\u001b[0m\u001b[1;33m\u001b[0m\u001b[0m\n",
      "\u001b[1;31mTypeError\u001b[0m: 'str' object does not support item assignment"
     ]
    }
   ],
   "source": [
    "s = \"aman\"\n",
    "s[0]=\"d\"\n",
    "s"
   ]
  },
  {
   "cell_type": "code",
   "execution_count": null,
   "id": "71b97d75",
   "metadata": {},
   "outputs": [],
   "source": [
    "above eg. shows strings are immutable in nature."
   ]
  },
  {
   "cell_type": "code",
   "execution_count": 23,
   "id": "71aa78f0",
   "metadata": {},
   "outputs": [
    {
     "data": {
      "text/plain": [
       "'amansingh'"
      ]
     },
     "execution_count": 23,
     "metadata": {},
     "output_type": "execute_result"
    }
   ],
   "source": [
    "s = \"aman\" + \"singh\"\n",
    "s"
   ]
  },
  {
   "cell_type": "code",
   "execution_count": null,
   "id": "c48e3855",
   "metadata": {},
   "outputs": [],
   "source": [
    "above eg. is example of concatination"
   ]
  },
  {
   "cell_type": "code",
   "execution_count": 24,
   "id": "dd10217b",
   "metadata": {},
   "outputs": [
    {
     "data": {
      "text/plain": [
       "['__add__',\n",
       " '__class__',\n",
       " '__contains__',\n",
       " '__delattr__',\n",
       " '__dir__',\n",
       " '__doc__',\n",
       " '__eq__',\n",
       " '__format__',\n",
       " '__ge__',\n",
       " '__getattribute__',\n",
       " '__getitem__',\n",
       " '__getnewargs__',\n",
       " '__gt__',\n",
       " '__hash__',\n",
       " '__init__',\n",
       " '__init_subclass__',\n",
       " '__iter__',\n",
       " '__le__',\n",
       " '__len__',\n",
       " '__lt__',\n",
       " '__mod__',\n",
       " '__mul__',\n",
       " '__ne__',\n",
       " '__new__',\n",
       " '__reduce__',\n",
       " '__reduce_ex__',\n",
       " '__repr__',\n",
       " '__rmod__',\n",
       " '__rmul__',\n",
       " '__setattr__',\n",
       " '__sizeof__',\n",
       " '__str__',\n",
       " '__subclasshook__',\n",
       " 'capitalize',\n",
       " 'casefold',\n",
       " 'center',\n",
       " 'count',\n",
       " 'encode',\n",
       " 'endswith',\n",
       " 'expandtabs',\n",
       " 'find',\n",
       " 'format',\n",
       " 'format_map',\n",
       " 'index',\n",
       " 'isalnum',\n",
       " 'isalpha',\n",
       " 'isascii',\n",
       " 'isdecimal',\n",
       " 'isdigit',\n",
       " 'isidentifier',\n",
       " 'islower',\n",
       " 'isnumeric',\n",
       " 'isprintable',\n",
       " 'isspace',\n",
       " 'istitle',\n",
       " 'isupper',\n",
       " 'join',\n",
       " 'ljust',\n",
       " 'lower',\n",
       " 'lstrip',\n",
       " 'maketrans',\n",
       " 'partition',\n",
       " 'removeprefix',\n",
       " 'removesuffix',\n",
       " 'replace',\n",
       " 'rfind',\n",
       " 'rindex',\n",
       " 'rjust',\n",
       " 'rpartition',\n",
       " 'rsplit',\n",
       " 'rstrip',\n",
       " 'split',\n",
       " 'splitlines',\n",
       " 'startswith',\n",
       " 'strip',\n",
       " 'swapcase',\n",
       " 'title',\n",
       " 'translate',\n",
       " 'upper',\n",
       " 'zfill']"
      ]
     },
     "execution_count": 24,
     "metadata": {},
     "output_type": "execute_result"
    }
   ],
   "source": [
    "dir(str)"
   ]
  },
  {
   "cell_type": "code",
   "execution_count": null,
   "id": "1810ca4d",
   "metadata": {},
   "outputs": [],
   "source": [
    "above all are called methods of strings"
   ]
  },
  {
   "cell_type": "code",
   "execution_count": 27,
   "id": "3a159da9",
   "metadata": {},
   "outputs": [
    {
     "data": {
      "text/plain": [
       "'Shubham'"
      ]
     },
     "execution_count": 27,
     "metadata": {},
     "output_type": "execute_result"
    }
   ],
   "source": [
    "s = \"shubham\"\n",
    "s.capitalize()\n"
   ]
  },
  {
   "cell_type": "code",
   "execution_count": 28,
   "id": "de1cbec6",
   "metadata": {},
   "outputs": [
    {
     "data": {
      "text/plain": [
       "'shubham'"
      ]
     },
     "execution_count": 28,
     "metadata": {},
     "output_type": "execute_result"
    }
   ],
   "source": [
    "s = \"shubham\"\n",
    "s.casefold()"
   ]
  },
  {
   "cell_type": "code",
   "execution_count": 30,
   "id": "06a99d28",
   "metadata": {},
   "outputs": [
    {
     "data": {
      "text/plain": [
       "'shubham'"
      ]
     },
     "execution_count": 30,
     "metadata": {},
     "output_type": "execute_result"
    }
   ],
   "source": [
    "g = \"madrid\"\n",
    "s.casefold() (basically used for translation)"
   ]
  },
  {
   "cell_type": "code",
   "execution_count": 32,
   "id": "3be24f60",
   "metadata": {},
   "outputs": [
    {
     "data": {
      "text/plain": [
       "'@@grsfef@@'"
      ]
     },
     "execution_count": 32,
     "metadata": {},
     "output_type": "execute_result"
    }
   ],
   "source": [
    "j = \"grsfef\"\n",
    "j.center(10,\"@\")"
   ]
  },
  {
   "cell_type": "code",
   "execution_count": 33,
   "id": "68d2c17b",
   "metadata": {},
   "outputs": [
    {
     "data": {
      "text/plain": [
       "'@@grsfef@'"
      ]
     },
     "execution_count": 33,
     "metadata": {},
     "output_type": "execute_result"
    }
   ],
   "source": [
    "j = \"grsfef\"\n",
    "j.center(9,\"@\")"
   ]
  },
  {
   "cell_type": "code",
   "execution_count": 35,
   "id": "99096d03",
   "metadata": {},
   "outputs": [
    {
     "data": {
      "text/plain": [
       "2"
      ]
     },
     "execution_count": 35,
     "metadata": {},
     "output_type": "execute_result"
    }
   ],
   "source": [
    "j = \"harshul\"\n",
    "j.count(\"h\")"
   ]
  },
  {
   "cell_type": "code",
   "execution_count": 36,
   "id": "191eb766",
   "metadata": {},
   "outputs": [
    {
     "data": {
      "text/plain": [
       "2"
      ]
     },
     "execution_count": 36,
     "metadata": {},
     "output_type": "execute_result"
    }
   ],
   "source": [
    "o = \"the cat is sitting on a table and is eating food\"\n",
    "o.count(\"is\")"
   ]
  },
  {
   "cell_type": "code",
   "execution_count": 37,
   "id": "87467c1a",
   "metadata": {},
   "outputs": [
    {
     "data": {
      "text/plain": [
       "1"
      ]
     },
     "execution_count": 37,
     "metadata": {},
     "output_type": "execute_result"
    }
   ],
   "source": [
    "o = \"the cat is sitting on a table and is eating food\"\n",
    "o.count(\"cat\")"
   ]
  },
  {
   "cell_type": "code",
   "execution_count": 39,
   "id": "0d998a5d",
   "metadata": {},
   "outputs": [
    {
     "data": {
      "text/plain": [
       "b'bishnoi'"
      ]
     },
     "execution_count": 39,
     "metadata": {},
     "output_type": "execute_result"
    }
   ],
   "source": [
    "r = \"bishnoi\"\n",
    "r.encode()"
   ]
  },
  {
   "cell_type": "code",
   "execution_count": 41,
   "id": "f0fe4181",
   "metadata": {},
   "outputs": [
    {
     "data": {
      "text/plain": [
       "True"
      ]
     },
     "execution_count": 41,
     "metadata": {},
     "output_type": "execute_result"
    }
   ],
   "source": [
    "t = \"tata\"\n",
    "t.endswith(\"a\")"
   ]
  },
  {
   "cell_type": "code",
   "execution_count": 42,
   "id": "010faa3c",
   "metadata": {},
   "outputs": [
    {
     "data": {
      "text/plain": [
       "True"
      ]
     },
     "execution_count": 42,
     "metadata": {},
     "output_type": "execute_result"
    }
   ],
   "source": [
    "r = \"tatasons\"\n",
    "r.startswith(\"t\")"
   ]
  },
  {
   "cell_type": "code",
   "execution_count": 48,
   "id": "1d766208",
   "metadata": {},
   "outputs": [
    {
     "data": {
      "text/plain": [
       "'qwe     rty'"
      ]
     },
     "execution_count": 48,
     "metadata": {},
     "output_type": "execute_result"
    }
   ],
   "source": [
    "\"\"\"qwerty\"\"\"\n",
    "t = \"qwe\\trty\"\n",
    "t.expandtabs()"
   ]
  },
  {
   "cell_type": "code",
   "execution_count": 50,
   "id": "972b4fe6",
   "metadata": {},
   "outputs": [
    {
     "data": {
      "text/plain": [
       "2"
      ]
     },
     "execution_count": 50,
     "metadata": {},
     "output_type": "execute_result"
    }
   ],
   "source": [
    "y = \"money\"\n",
    "y.find(\"n\")"
   ]
  },
  {
   "cell_type": "code",
   "execution_count": 52,
   "id": "b6fdbce9",
   "metadata": {},
   "outputs": [
    {
     "data": {
      "text/plain": [
       "1"
      ]
     },
     "execution_count": 52,
     "metadata": {},
     "output_type": "execute_result"
    }
   ],
   "source": [
    "t = \"qweqwe\"\n",
    "t.find(\"w\")"
   ]
  },
  {
   "cell_type": "code",
   "execution_count": 53,
   "id": "56e72961",
   "metadata": {},
   "outputs": [
    {
     "data": {
      "text/plain": [
       "5"
      ]
     },
     "execution_count": 53,
     "metadata": {},
     "output_type": "execute_result"
    }
   ],
   "source": [
    "r = \"wqewqdef\"\n",
    "r.index(\"d\")"
   ]
  },
  {
   "cell_type": "code",
   "execution_count": 54,
   "id": "85ce131d",
   "metadata": {},
   "outputs": [
    {
     "data": {
      "text/plain": [
       "8"
      ]
     },
     "execution_count": 54,
     "metadata": {},
     "output_type": "execute_result"
    }
   ],
   "source": [
    "d = \"the cat is eating\"\n",
    "d.find(\"is\")"
   ]
  },
  {
   "cell_type": "code",
   "execution_count": 57,
   "id": "27f63741",
   "metadata": {},
   "outputs": [
    {
     "data": {
      "text/plain": [
       "9"
      ]
     },
     "execution_count": 57,
     "metadata": {},
     "output_type": "execute_result"
    }
   ],
   "source": [
    "\"the lion king\".index(\"king\")"
   ]
  },
  {
   "cell_type": "code",
   "execution_count": 60,
   "id": "79d6095c",
   "metadata": {},
   "outputs": [
    {
     "name": "stdout",
     "output_type": "stream",
     "text": [
      "0\n",
      "1\n",
      "2\n",
      "3\n",
      "4\n",
      "5\n",
      "6\n",
      "7\n",
      "8\n",
      "9\n"
     ]
    }
   ],
   "source": [
    "x = \"helloworld\"\n",
    "for i in range(len(x)):\n",
    "    print(i)"
   ]
  },
  {
   "cell_type": "code",
   "execution_count": 61,
   "id": "258dd1bc",
   "metadata": {},
   "outputs": [
    {
     "name": "stdout",
     "output_type": "stream",
     "text": [
      "l\n",
      "w\n"
     ]
    }
   ],
   "source": [
    "x = \"helloworld\"\n",
    "for i in range(len(x)):\n",
    "    if i==3 or i==5:\n",
    "        print(x[i])"
   ]
  },
  {
   "cell_type": "code",
   "execution_count": 63,
   "id": "d29baa5b",
   "metadata": {},
   "outputs": [
    {
     "name": "stdout",
     "output_type": "stream",
     "text": [
      "3 X 1 = 3\n",
      "3 X 2 = 6\n",
      "3 X 3 = 9\n",
      "3 X 4 = 12\n",
      "3 X 5 = 15\n",
      "3 X 6 = 18\n",
      "3 X 7 = 21\n",
      "3 X 8 = 24\n",
      "3 X 9 = 27\n",
      "3 X 10 = 30\n"
     ]
    }
   ],
   "source": [
    "n = 3\n",
    "for i in range(1,11):\n",
    "    print(\"{} X {} = {}\".format(n,i,n*i))"
   ]
  },
  {
   "cell_type": "code",
   "execution_count": 64,
   "id": "3f126183",
   "metadata": {},
   "outputs": [
    {
     "name": "stdout",
     "output_type": "stream",
     "text": [
      "3 X 1 = 3\n",
      "3 X 2 = 6\n",
      "3 X 3 = 9\n",
      "3 X 4 = 12\n",
      "3 X 5 = 15\n",
      "3 X 6 = 18\n",
      "3 X 7 = 21\n",
      "3 X 8 = 24\n",
      "3 X 9 = 27\n",
      "3 X 10 = 30\n"
     ]
    }
   ],
   "source": [
    "n = 3\n",
    "for i in range(1,11):\n",
    "    print(f\"{n} X {i} = {n*i}\")"
   ]
  },
  {
   "cell_type": "code",
   "execution_count": null,
   "id": "121ccf48",
   "metadata": {},
   "outputs": [],
   "source": []
  }
 ],
 "metadata": {
  "kernelspec": {
   "display_name": "Python 3 (ipykernel)",
   "language": "python",
   "name": "python3"
  },
  "language_info": {
   "codemirror_mode": {
    "name": "ipython",
    "version": 3
   },
   "file_extension": ".py",
   "mimetype": "text/x-python",
   "name": "python",
   "nbconvert_exporter": "python",
   "pygments_lexer": "ipython3",
   "version": "3.9.7"
  }
 },
 "nbformat": 4,
 "nbformat_minor": 5
}
