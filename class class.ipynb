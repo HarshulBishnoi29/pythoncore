{
 "cells": [
  {
   "cell_type": "code",
   "execution_count": null,
   "id": "756fcb6b",
   "metadata": {},
   "outputs": [],
   "source": [
    "object oriented programming"
   ]
  },
  {
   "cell_type": "code",
   "execution_count": 1,
   "id": "b8a43cb0",
   "metadata": {},
   "outputs": [
    {
     "name": "stdout",
     "output_type": "stream",
     "text": [
      "<class 'list'>\n"
     ]
    }
   ],
   "source": [
    "l = [1,2,3,4]\n",
    "print(type(l))"
   ]
  },
  {
   "cell_type": "code",
   "execution_count": 4,
   "id": "7d23781c",
   "metadata": {},
   "outputs": [],
   "source": [
    "class car:\n",
    "    car_brand=\"mercedes\"\n",
    "c = car"
   ]
  },
  {
   "cell_type": "code",
   "execution_count": 5,
   "id": "5bac1209",
   "metadata": {},
   "outputs": [
    {
     "name": "stdout",
     "output_type": "stream",
     "text": [
      "<class '__main__.car'>\n"
     ]
    }
   ],
   "source": [
    "print(c)"
   ]
  },
  {
   "cell_type": "code",
   "execution_count": 6,
   "id": "cc6f4cc4",
   "metadata": {},
   "outputs": [
    {
     "data": {
      "text/plain": [
       "'mercedes'"
      ]
     },
     "execution_count": 6,
     "metadata": {},
     "output_type": "execute_result"
    }
   ],
   "source": [
    "c.car_brand"
   ]
  },
  {
   "cell_type": "code",
   "execution_count": 15,
   "id": "d10e13f0",
   "metadata": {},
   "outputs": [
    {
     "name": "stdout",
     "output_type": "stream",
     "text": [
      "the gl series of black color is having a top speed of 220\n"
     ]
    }
   ],
   "source": [
    "class car:\n",
    "    car_brand=\"m\"\n",
    "    def __init__(self,name,color,ts):\n",
    "        self.name = name\n",
    "        self.color = color\n",
    "        self.ts = ts\n",
    "    def hatchback(self):\n",
    "        print(f\"the{self.name} of {self.color} color is having a top speed of {self.ts}\")\n",
    "c = car(\" gl series\",\"black\",220)\n",
    "c.hatchback()\n",
    "              \n",
    "    "
   ]
  },
  {
   "cell_type": "code",
   "execution_count": null,
   "id": "ccecc0e4",
   "metadata": {},
   "outputs": [],
   "source": [
    "MAC shape rectangle"
   ]
  },
  {
   "cell_type": "code",
   "execution_count": 26,
   "id": "53128999",
   "metadata": {},
   "outputs": [
    {
     "name": "stdout",
     "output_type": "stream",
     "text": [
      "perimeter is 16\n",
      "area is  15\n"
     ]
    }
   ],
   "source": [
    "class shape:\n",
    "    shape = \"rectangle\"\n",
    "    def __init__(self,l,b):\n",
    "        self.l = l\n",
    "        self.b = b\n",
    "    def area(self):\n",
    "        print(\"area is \",(self.l*self.b))\n",
    "    def perimeter(self):\n",
    "        print(\"perimeter is\", 2*(self.l+self.b))\n",
    "s = shape(3,5)\n",
    "s.perimeter()\n",
    "s.area()"
   ]
  },
  {
   "cell_type": "code",
   "execution_count": 28,
   "id": "5f6f3f19",
   "metadata": {},
   "outputs": [
    {
     "name": "stdout",
     "output_type": "stream",
     "text": [
      "enter the length : 3\n",
      "enter the breadth : 5\n",
      "perimeter is 16\n",
      "area is  15\n"
     ]
    }
   ],
   "source": [
    "class shape:\n",
    "    shape = \"rectangle\"\n",
    "    def __init__(self,l,b):\n",
    "        self.l = l\n",
    "        self.b = b\n",
    "    def area(self):\n",
    "        print(\"area is \",(self.l*self.b))\n",
    "    def perimeter(self):\n",
    "        print(\"perimeter is\", 2*(self.l+self.b))\n",
    "s = shape(int(input(\"enter the length : \")),int(input(\"enter the breadth : \")))\n",
    "s.perimeter()\n",
    "s.area()"
   ]
  },
  {
   "cell_type": "code",
   "execution_count": null,
   "id": "e3561b8e",
   "metadata": {},
   "outputs": [],
   "source": []
  }
 ],
 "metadata": {
  "kernelspec": {
   "display_name": "Python 3 (ipykernel)",
   "language": "python",
   "name": "python3"
  },
  "language_info": {
   "codemirror_mode": {
    "name": "ipython",
    "version": 3
   },
   "file_extension": ".py",
   "mimetype": "text/x-python",
   "name": "python",
   "nbconvert_exporter": "python",
   "pygments_lexer": "ipython3",
   "version": "3.9.7"
  }
 },
 "nbformat": 4,
 "nbformat_minor": 5
}
