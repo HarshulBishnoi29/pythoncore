{
 "cells": [
  {
   "cell_type": "markdown",
   "id": "84d6406d",
   "metadata": {},
   "source": [
    "ques 4"
   ]
  },
  {
   "cell_type": "code",
   "execution_count": 1,
   "id": "0f0bea8f",
   "metadata": {},
   "outputs": [
    {
     "name": "stdout",
     "output_type": "stream",
     "text": [
      "('34', '67', '55', '33', '12', '98')\n",
      "['34', '67', '55', '33', '12', '98']\n"
     ]
    }
   ],
   "source": [
    "s = '34','67','55','33','12','98'\n",
    "a = tuple(s)\n",
    "b=list(s)\n",
    "print(a)\n",
    "print(b)"
   ]
  },
  {
   "cell_type": "markdown",
   "id": "905d9886",
   "metadata": {},
   "source": [
    "ques 6"
   ]
  },
  {
   "cell_type": "code",
   "execution_count": 2,
   "id": "6324e8d9",
   "metadata": {},
   "outputs": [],
   "source": [
    "import math"
   ]
  },
  {
   "cell_type": "code",
   "execution_count": 3,
   "id": "4598b545",
   "metadata": {},
   "outputs": [
    {
     "name": "stdout",
     "output_type": "stream",
     "text": [
      "100\n"
     ]
    },
    {
     "data": {
      "text/plain": [
       "18"
      ]
     },
     "execution_count": 3,
     "metadata": {},
     "output_type": "execute_result"
    }
   ],
   "source": [
    "c = 50\n",
    "h = 30\n",
    "d = int(input(\"\"))\n",
    "q = (math.sqrt((2*d*c)/h))\n",
    "round(q)"
   ]
  },
  {
   "cell_type": "code",
   "execution_count": null,
   "id": "01bf4dcb",
   "metadata": {},
   "outputs": [],
   "source": []
  }
 ],
 "metadata": {
  "kernelspec": {
   "display_name": "Python 3 (ipykernel)",
   "language": "python",
   "name": "python3"
  },
  "language_info": {
   "codemirror_mode": {
    "name": "ipython",
    "version": 3
   },
   "file_extension": ".py",
   "mimetype": "text/x-python",
   "name": "python",
   "nbconvert_exporter": "python",
   "pygments_lexer": "ipython3",
   "version": "3.9.7"
  }
 },
 "nbformat": 4,
 "nbformat_minor": 5
}
